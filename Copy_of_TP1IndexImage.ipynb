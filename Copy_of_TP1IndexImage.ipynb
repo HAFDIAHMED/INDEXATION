{
  "nbformat": 4,
  "nbformat_minor": 0,
  "metadata": {
    "colab": {
      "name": "Copy of TP1IndexImage.ipynb",
      "provenance": [],
      "collapsed_sections": []
    },
    "kernelspec": {
      "name": "python3",
      "display_name": "Python 3"
    }
  },
  "cells": [
    {
      "cell_type": "code",
      "metadata": {
        "id": "e0XVCnO2xlPt",
        "colab_type": "code",
        "outputId": "83799497-332e-4aa0-8da8-e91401531ec0",
        "colab": {
          "base_uri": "https://localhost:8080/",
          "height": 204
        }
      },
      "source": [
        "!wget -O \"TP1_IDM.zip\" \"https://d1b10bmlvqabco.cloudfront.net/attach/iw3gqpakkwgvi/ipfm8cpei955q1/izlouk8zkmis/TP1_IDM.zip\""
      ],
      "execution_count": 0,
      "outputs": [
        {
          "output_type": "stream",
          "text": [
            "--2020-03-24 12:33:58--  https://d1b10bmlvqabco.cloudfront.net/attach/iw3gqpakkwgvi/ipfm8cpei955q1/izlouk8zkmis/TP1_IDM.zip\n",
            "Resolving d1b10bmlvqabco.cloudfront.net (d1b10bmlvqabco.cloudfront.net)... 99.84.245.114, 99.84.245.119, 99.84.245.27, ...\n",
            "Connecting to d1b10bmlvqabco.cloudfront.net (d1b10bmlvqabco.cloudfront.net)|99.84.245.114|:443... connected.\n",
            "HTTP request sent, awaiting response... 200 OK\n",
            "Length: 444752 (434K) [application/zip]\n",
            "Saving to: ‘TP1_IDM.zip’\n",
            "\n",
            "\rTP1_IDM.zip           0%[                    ]       0  --.-KB/s               \rTP1_IDM.zip         100%[===================>] 434.33K  --.-KB/s    in 0.04s   \n",
            "\n",
            "2020-03-24 12:33:59 (9.81 MB/s) - ‘TP1_IDM.zip’ saved [444752/444752]\n",
            "\n"
          ],
          "name": "stdout"
        }
      ]
    },
    {
      "cell_type": "code",
      "metadata": {
        "id": "itGX94qVyPYx",
        "colab_type": "code",
        "outputId": "8ea917af-e127-4cf2-81e9-ca234c470dfc",
        "colab": {
          "base_uri": "https://localhost:8080/",
          "height": 63
        }
      },
      "source": [
        "!unzip TP1_IDM.zip"
      ],
      "execution_count": 0,
      "outputs": [
        {
          "output_type": "stream",
          "text": [
            "Archive:  TP1_IDM.zip\n",
            "replace TP1_IDM/TP_02_BDMM_DesGlobal .pdf? [y]es, [n]o, [A]ll, [N]one, [r]ename: "
          ],
          "name": "stdout"
        }
      ]
    },
    {
      "cell_type": "code",
      "metadata": {
        "id": "6MRjDwSDy-aK",
        "colab_type": "code",
        "colab": {}
      },
      "source": [
        "import cv2 as cv\n",
        "import numpy as np\n",
        "from google.colab.patches import cv2_imshow"
      ],
      "execution_count": 0,
      "outputs": []
    },
    {
      "cell_type": "code",
      "metadata": {
        "id": "e7xl9pXbyTRN",
        "colab_type": "code",
        "colab": {}
      },
      "source": [
        "def hist(img, histSize = 256, histRange = (0, 256), accumulate = False):\n",
        "  bgr_planes = cv.split(img)\n",
        "  b_hist = cv.calcHist(bgr_planes, [0], None, [histSize], histRange, accumulate = accumulate)\n",
        "  g_hist = cv.calcHist(bgr_planes, [1], None, [histSize], histRange, accumulate = accumulate)\n",
        "  r_hist = cv.calcHist(bgr_planes, [2], None, [histSize], histRange, accumulate = accumulate)\n",
        "  return np.array([b_hist, g_hist, r_hist])"
      ],
      "execution_count": 0,
      "outputs": []
    },
    {
      "cell_type": "code",
      "metadata": {
        "id": "BI3BLGWm1rGK",
        "colab_type": "code",
        "colab": {}
      },
      "source": [
        "def dist(histo1, histo2):\n",
        "  return 1 - np.sum(np.minimum(histo1, histo2))/np.minimum(np.sum(histo1), np.sum(histo2))"
      ],
      "execution_count": 0,
      "outputs": []
    },
    {
      "cell_type": "code",
      "metadata": {
        "id": "wmLm6K9O9COm",
        "colab_type": "code",
        "colab": {}
      },
      "source": [
        "colorPathTest = \"TP1_IDM/imgColor/test/\"\n",
        "colorPathRef = \"TP1_IDM/imgColor/ref/\""
      ],
      "execution_count": 0,
      "outputs": []
    },
    {
      "cell_type": "code",
      "metadata": {
        "id": "F66bvf3T788j",
        "colab_type": "code",
        "colab": {}
      },
      "source": [
        "img1 = cv.imread(colorPathTest + \"01.jpg\")\n",
        "img2 = cv.imread(colorPathRef + \"02.jpg\")\n",
        "cv2_imshow(img2)\n",
        "histo1 = hist(img1)\n",
        "histo2 = hist(img2)"
      ],
      "execution_count": 0,
      "outputs": []
    },
    {
      "cell_type": "code",
      "metadata": {
        "id": "WQecrbNh9kB8",
        "colab_type": "code",
        "colab": {}
      },
      "source": [
        "dist(histo1, histo2)"
      ],
      "execution_count": 0,
      "outputs": []
    },
    {
      "cell_type": "code",
      "metadata": {
        "id": "mLZA0PBK-D1L",
        "colab_type": "code",
        "colab": {}
      },
      "source": [
        "texturePathTest = \"TP1_IDM/imgTexture/test/\"\n",
        "texturePathRef = \"TP1_IDM/imgTexture/test/\""
      ],
      "execution_count": 0,
      "outputs": []
    },
    {
      "cell_type": "code",
      "metadata": {
        "id": "1k_ZjqylNaDl",
        "colab_type": "code",
        "colab": {}
      },
      "source": [
        "def nvcm(img, direct, dx, dy):\n",
        "  gray = cv2.cvtColor(img, cv2.COLOR_BGR2GRAY)\n",
        "  "
      ],
      "execution_count": 0,
      "outputs": []
    },
    {
      "cell_type": "code",
      "metadata": {
        "id": "XYBp5-TOOjZ4",
        "colab_type": "code",
        "colab": {}
      },
      "source": [
        "#importation des libraries \n",
        "import cv2\n",
        "from skimage import data\n",
        "import imutils\n",
        "import matplotlib.pyplot as plt\n",
        "import os\n",
        "import numpy as np"
      ],
      "execution_count": 0,
      "outputs": []
    },
    {
      "cell_type": "code",
      "metadata": {
        "id": "a4uijjeAOiS5",
        "colab_type": "code",
        "colab": {}
      },
      "source": [
        "#fonction pour charger les images\n",
        "def load_images(data_dir):\n",
        "  # two lists, labels and images.\n",
        "  index = []\n",
        "  images = []\n",
        "    \n",
        "  file_names = [os.path.join(data_dir, f) for f in os.listdir(data_dir) if f.endswith(\".jpg\")]\n",
        "  for f in file_names:\n",
        "          images.append(cv2.imread(f))\n",
        "  return images"
      ],
      "execution_count": 0,
      "outputs": []
    },
    {
      "cell_type": "code",
      "metadata": {
        "id": "ED0sHu7VRQlN",
        "colab_type": "code",
        "colab": {}
      },
      "source": [
        "from google.colab.patches import cv2_imshow"
      ],
      "execution_count": 0,
      "outputs": []
    },
    {
      "cell_type": "code",
      "metadata": {
        "id": "NlVlFk-oR6uX",
        "colab_type": "code",
        "colab": {}
      },
      "source": [
        "#les chemins pour les images ref et les images test + chargement des images à l'aide de la fonction load_images\n",
        "path_ref = \"/content/TP1_IDM/imgColor/ref\"\n",
        "images_ref = load_images(path_ref)\n",
        "path_test = \"/content/TP1_IDM/imgColor/test\"\n",
        "images_test = load_images(path_test)"
      ],
      "execution_count": 0,
      "outputs": []
    },
    {
      "cell_type": "code",
      "metadata": {
        "id": "KL2ekQfTRlZa",
        "colab_type": "code",
        "colab": {}
      },
      "source": [
        "#fonction pour afficher les images\n",
        "def display_images(images):\n",
        "    fig=plt.figure(figsize=(20,10))\n",
        "    for i in range(len(images)):\n",
        "        fig.add_subplot(1,len(images),i+1)\n",
        "        plt.axis('off')\n",
        "        plt.imshow(cv.cvtColor(images[i], cv.COLOR_BGR2RGB))\n",
        "    plt.show()"
      ],
      "execution_count": 0,
      "outputs": []
    },
    {
      "cell_type": "code",
      "metadata": {
        "id": "1LqvtxZ3SG3d",
        "colab_type": "code",
        "colab": {}
      },
      "source": [
        "#affichage des images de référence\n",
        "display_images(images_ref)"
      ],
      "execution_count": 0,
      "outputs": []
    },
    {
      "cell_type": "code",
      "metadata": {
        "id": "nP8sGO-9SJRp",
        "colab_type": "code",
        "colab": {}
      },
      "source": [
        "#affichage des images test\n",
        "display_images(images_test)"
      ],
      "execution_count": 0,
      "outputs": []
    },
    {
      "cell_type": "code",
      "metadata": {
        "id": "DVUUHBAmSSnE",
        "colab_type": "code",
        "colab": {}
      },
      "source": [
        "#acces aux pixels des images\n",
        "print(images_ref[1].item(10,10,0)) #rouge\n",
        "print(images_ref[1].item(10,10,1)) #vert\n",
        "print(images_ref[1].item(10,10,2)) #bleu"
      ],
      "execution_count": 0,
      "outputs": []
    },
    {
      "cell_type": "code",
      "metadata": {
        "id": "s0oQ3GE1SpGg",
        "colab_type": "code",
        "colab": {}
      },
      "source": [
        "#fonction qui calcul l'histograme selon chaque channel (rgb)\n",
        "def hist(img, histSize = 256, histRange = (0, 256), accumulate = False):\n",
        "  bgr_planes = cv2.split(img)\n",
        "  b_hist = cv2.calcHist(bgr_planes, [0], None, [histSize], histRange, accumulate = accumulate)\n",
        "  g_hist = cv2.calcHist(bgr_planes, [1], None, [histSize], histRange, accumulate = accumulate)\n",
        "  r_hist = cv2.calcHist(bgr_planes, [2], None, [histSize], histRange, accumulate = accumulate)\n",
        "  return np.array([b_hist, g_hist, r_hist])"
      ],
      "execution_count": 0,
      "outputs": []
    },
    {
      "cell_type": "code",
      "metadata": {
        "id": "Blyl3zqwTXYa",
        "colab_type": "code",
        "colab": {}
      },
      "source": [
        "#dictionnaire d'histogrames\n",
        "histo_ref = {}"
      ],
      "execution_count": 0,
      "outputs": []
    },
    {
      "cell_type": "code",
      "metadata": {
        "id": "4ngwASWEUbPS",
        "colab_type": "code",
        "colab": {}
      },
      "source": [
        "#calcul des histogrammes\n",
        "for i in range(len(images_ref)):\n",
        "  histo_ref[i] = hist(images_ref[i])"
      ],
      "execution_count": 0,
      "outputs": []
    },
    {
      "cell_type": "code",
      "metadata": {
        "id": "LX24uexTXNaq",
        "colab_type": "code",
        "colab": {}
      },
      "source": [
        "#la fonction distance entre deux histogrammes\n",
        "def dist(histo1, histo2):\n",
        "  return 1 - np.sum(np.minimum(histo1, histo2)) / np.minimum(np.sum(histo1), np.sum(histo2))"
      ],
      "execution_count": 0,
      "outputs": []
    },
    {
      "cell_type": "code",
      "metadata": {
        "id": "N2FzyoRhYzpS",
        "colab_type": "code",
        "colab": {}
      },
      "source": [
        "index = histo_ref"
      ],
      "execution_count": 0,
      "outputs": []
    },
    {
      "cell_type": "code",
      "metadata": {
        "id": "Yb6JKVd2YYzW",
        "colab_type": "code",
        "colab": {}
      },
      "source": [
        "#la fonction du prof\n",
        "results = dict.fromkeys(list(index.keys()) , 0)\n",
        "# image of image query\n",
        "q=input('tape the number of query image  0 to 4 : ')\n",
        "q=int(q)\n",
        "hist_query = hist(images_test[q])\n",
        "for (k, hist) in index.items():\n",
        "    results[k] = dist(hist_query, hist)\n",
        "results = sorted([(v, k) for (k, v) in results.items()], reverse = False)"
      ],
      "execution_count": 0,
      "outputs": []
    },
    {
      "cell_type": "code",
      "metadata": {
        "id": "OmhDOKIfYw-g",
        "colab_type": "code",
        "colab": {}
      },
      "source": [
        "results"
      ],
      "execution_count": 0,
      "outputs": []
    },
    {
      "cell_type": "markdown",
      "metadata": {
        "id": "SvXKuJNnerRT",
        "colab_type": "text"
      },
      "source": [
        "## Texture"
      ]
    },
    {
      "cell_type": "code",
      "metadata": {
        "id": "snkJuDOOeXQJ",
        "colab_type": "code",
        "colab": {}
      },
      "source": [
        "#les chemins pour les images ref et les images test + chargement des images à l'aide de la fonction load_images\n",
        "path_ref = \"/content/TP1_IDM/imgTexture/ref\"\n",
        "images_ref = load_images(path_ref)\n",
        "path_test = \"/content/TP1_IDM/imgTexture/test\"\n",
        "images_test = load_images(path_test)"
      ],
      "execution_count": 0,
      "outputs": []
    },
    {
      "cell_type": "code",
      "metadata": {
        "id": "Vg3IbN7nemNx",
        "colab_type": "code",
        "colab": {}
      },
      "source": [
        "#affichage des images de référence\n",
        "display_images(images_ref)"
      ],
      "execution_count": 0,
      "outputs": []
    },
    {
      "cell_type": "code",
      "metadata": {
        "id": "al6llpiBep4j",
        "colab_type": "code",
        "colab": {}
      },
      "source": [
        "#affichage des images de référence\n",
        "display_images(images_test)"
      ],
      "execution_count": 0,
      "outputs": []
    },
    {
      "cell_type": "code",
      "metadata": {
        "id": "I5rFv0Aoe1vg",
        "colab_type": "code",
        "colab": {}
      },
      "source": [
        "#calcule de la matrice de co-occurence"
      ],
      "execution_count": 0,
      "outputs": []
    },
    {
      "cell_type": "code",
      "metadata": {
        "id": "UrDLesYDe7c1",
        "colab_type": "code",
        "colab": {}
      },
      "source": [
        "def comatrix(image):\n",
        "  gray = cv2.cvtColor(image, cv2.COLOR_BGR2GRAY)\n",
        "  "
      ],
      "execution_count": 0,
      "outputs": []
    }
  ]
}